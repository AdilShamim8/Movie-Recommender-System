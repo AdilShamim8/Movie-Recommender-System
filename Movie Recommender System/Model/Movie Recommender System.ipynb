{
 "cells": [
  {
   "cell_type": "markdown",
   "id": "f7885778-56f0-44ef-ad2c-880b718a472c",
   "metadata": {},
   "source": [
    "### **The Journey Begins: Adil & Harry’s Recommender System Adventure**  \n",
    "\n",
    "Adil and Harry sat in their workspace, staring at a whiteboard filled with complex equations and diagrams. Their mission was clear—to build a **Movie Recommender System**.  \n",
    "\n",
    "\"Harry, today, we're focusing on **content-based filtering**,\" Adil said, adjusting his laptop screen. \"Before we dive into coding, let's break down the different types of recommender systems.\"  \n",
    "\n",
    "Harry nodded eagerly. \"Alright, let's start with the basics!\"  \n",
    "\n",
    "---\n",
    "\n",
    "### **Types of Recommender Systems**  \n",
    "\n",
    "Adil explained the three major types:  \n",
    "\n",
    "#### **1. Content-Based Filtering (Today's Focus)**  \n",
    "🔹 **How it Works**: Analyzes movie features (genres, overview, keywords, cast, crew) to recommend similar items.  \n",
    "🔹 **Techniques**:  \n",
    "   - **TF-IDF (Term Frequency-Inverse Document Frequency)** for text processing  \n",
    "   - **Cosine Similarity** for measuring similarity between movies  \n",
    "   - **Machine Learning Models** (optional)  \n",
    "\n",
    "💡 **Example**: If a user likes *Interstellar* and *Inception*, the system recommends movies like *The Martian* and *Blade Runner 2049*.  \n",
    "\n",
    "---\n",
    "\n",
    "#### **2. Collaborative Filtering**  \n",
    "🔹 **How it Works**: Uses user interaction data to recommend items. It assumes that users with similar preferences will like similar items.  \n",
    "🔹 **Techniques**:  \n",
    "   - **User-Based Filtering**: Recommends movies based on similar users  \n",
    "   - **Item-Based Filtering**: Finds movies rated similarly by different users  \n",
    "   - **Matrix Factorization (SVD, ALS)** for uncovering hidden patterns  \n",
    "\n",
    "💡 **Example**: If User A and User B both rated *The Dark Knight* highly, and User A also liked *Dunkirk*, the system may recommend *Dunkirk* to User B.  \n",
    "\n",
    "---\n",
    "\n",
    "#### **3. Hybrid Recommender Systems**  \n",
    "🔹 **How it Works**: Combines content-based and collaborative filtering to improve recommendations.  \n",
    "🔹 **Techniques**:  \n",
    "   - **Weighted Hybrid**: Merges multiple recommendation scores  \n",
    "   - **Switching Hybrid**: Switches between methods dynamically  \n",
    "   - **Deep Learning Models** for learning complex relationships  \n",
    "\n",
    "💡 **Example**: Netflix uses a **hybrid approach**, considering both a user's watch history (content-based) and similar users' preferences (collaborative filtering).  \n",
    "\n",
    "---"
   ]
  },
  {
   "cell_type": "code",
   "execution_count": 110,
   "id": "99009c00-26b1-44b3-aae8-67c42449c9e1",
   "metadata": {},
   "outputs": [],
   "source": [
    "import numpy as np\n",
    "import pandas as pd"
   ]
  },
  {
   "cell_type": "markdown",
   "id": "7342e5cd-198d-4c40-af7c-858b0b5913c1",
   "metadata": {},
   "source": [
    "### **Data Preprocessing for a Content-Based Movie Recommender System**  \n",
    "\n",
    "With a clear understanding of recommender systems, Adil and Harry moved on to **data preprocessing**—a crucial step in ensuring accurate and efficient recommendations.  \n",
    "\n",
    "*\"A good model starts with clean data,\"* Adil reminded Harry as they opened their dataset.  "
   ]
  },
  {
   "cell_type": "markdown",
   "id": "8b2b2d4c-27e9-485e-8700-c989d4cd4f72",
   "metadata": {},
   "source": [
    "---\n",
    "\n",
    "### **Loading the Dataset**\n",
    "\n",
    "*\"Now, it's time to load the raw dataset and take a quick look at it,\"* Adil said, as he typed the code. They loaded their movie dataset into a pandas dataframe for inspection."
   ]
  },
  {
   "cell_type": "code",
   "execution_count": 111,
   "id": "708b5339-cb71-4d57-a0f1-e582e0f24775",
   "metadata": {},
   "outputs": [],
   "source": [
    "movies = pd.read_csv('tmdb_5000_movies.csv')\n",
    "credits = pd.read_csv('tmdb_5000_credits.csv')"
   ]
  },
  {
   "cell_type": "code",
   "execution_count": 112,
   "id": "cbc0c06d-6182-4645-a233-2ab9a50c51d6",
   "metadata": {},
   "outputs": [
    {
     "data": {
      "text/html": [
       "<div>\n",
       "<style scoped>\n",
       "    .dataframe tbody tr th:only-of-type {\n",
       "        vertical-align: middle;\n",
       "    }\n",
       "\n",
       "    .dataframe tbody tr th {\n",
       "        vertical-align: top;\n",
       "    }\n",
       "\n",
       "    .dataframe thead th {\n",
       "        text-align: right;\n",
       "    }\n",
       "</style>\n",
       "<table border=\"1\" class=\"dataframe\">\n",
       "  <thead>\n",
       "    <tr style=\"text-align: right;\">\n",
       "      <th></th>\n",
       "      <th>movie_id</th>\n",
       "      <th>title</th>\n",
       "      <th>cast</th>\n",
       "      <th>crew</th>\n",
       "    </tr>\n",
       "  </thead>\n",
       "  <tbody>\n",
       "    <tr>\n",
       "      <th>314</th>\n",
       "      <td>29193</td>\n",
       "      <td>The Spanish Prisoner</td>\n",
       "      <td>[{\"cast_id\": 1, \"character\": \"Jimmy Dell\", \"cr...</td>\n",
       "      <td>[{\"credit_id\": \"561f77189251417f47001122\", \"de...</td>\n",
       "    </tr>\n",
       "    <tr>\n",
       "      <th>1067</th>\n",
       "      <td>9981</td>\n",
       "      <td>Kicking &amp; Screaming</td>\n",
       "      <td>[{\"cast_id\": 19, \"character\": \"Phil Weston\", \"...</td>\n",
       "      <td>[{\"credit_id\": \"52fe4556c3a36847f80c8957\", \"de...</td>\n",
       "    </tr>\n",
       "  </tbody>\n",
       "</table>\n",
       "</div>"
      ],
      "text/plain": [
       "      movie_id                 title  \\\n",
       "314      29193  The Spanish Prisoner   \n",
       "1067      9981   Kicking & Screaming   \n",
       "\n",
       "                                                   cast  \\\n",
       "314   [{\"cast_id\": 1, \"character\": \"Jimmy Dell\", \"cr...   \n",
       "1067  [{\"cast_id\": 19, \"character\": \"Phil Weston\", \"...   \n",
       "\n",
       "                                                   crew  \n",
       "314   [{\"credit_id\": \"561f77189251417f47001122\", \"de...  \n",
       "1067  [{\"credit_id\": \"52fe4556c3a36847f80c8957\", \"de...  "
      ]
     },
     "execution_count": 112,
     "metadata": {},
     "output_type": "execute_result"
    }
   ],
   "source": [
    "credits.sample(2)"
   ]
  },
  {
   "cell_type": "code",
   "execution_count": 113,
   "id": "59898035-4e26-45ad-924d-08a944df9894",
   "metadata": {},
   "outputs": [
    {
     "data": {
      "text/html": [
       "<div>\n",
       "<style scoped>\n",
       "    .dataframe tbody tr th:only-of-type {\n",
       "        vertical-align: middle;\n",
       "    }\n",
       "\n",
       "    .dataframe tbody tr th {\n",
       "        vertical-align: top;\n",
       "    }\n",
       "\n",
       "    .dataframe thead th {\n",
       "        text-align: right;\n",
       "    }\n",
       "</style>\n",
       "<table border=\"1\" class=\"dataframe\">\n",
       "  <thead>\n",
       "    <tr style=\"text-align: right;\">\n",
       "      <th></th>\n",
       "      <th>budget</th>\n",
       "      <th>genres</th>\n",
       "      <th>homepage</th>\n",
       "      <th>id</th>\n",
       "      <th>keywords</th>\n",
       "      <th>original_language</th>\n",
       "      <th>original_title</th>\n",
       "      <th>overview</th>\n",
       "      <th>popularity</th>\n",
       "      <th>production_companies</th>\n",
       "      <th>production_countries</th>\n",
       "      <th>release_date</th>\n",
       "      <th>revenue</th>\n",
       "      <th>runtime</th>\n",
       "      <th>spoken_languages</th>\n",
       "      <th>status</th>\n",
       "      <th>tagline</th>\n",
       "      <th>title</th>\n",
       "      <th>vote_average</th>\n",
       "      <th>vote_count</th>\n",
       "    </tr>\n",
       "  </thead>\n",
       "  <tbody>\n",
       "    <tr>\n",
       "      <th>3386</th>\n",
       "      <td>0</td>\n",
       "      <td>[{\"id\": 14, \"name\": \"Fantasy\"}, {\"id\": 35, \"na...</td>\n",
       "      <td>NaN</td>\n",
       "      <td>11687</td>\n",
       "      <td>[{\"id\": 964, \"name\": \"servant\"}, {\"id\": 4379, ...</td>\n",
       "      <td>fr</td>\n",
       "      <td>Les visiteurs</td>\n",
       "      <td>This outrageous time-travel comedy follows the...</td>\n",
       "      <td>8.893676</td>\n",
       "      <td>[{\"name\": \"Canal Plus\", \"id\": 104}, {\"name\": \"...</td>\n",
       "      <td>[{\"iso_3166_1\": \"FR\", \"name\": \"France\"}]</td>\n",
       "      <td>1993-01-27</td>\n",
       "      <td>0</td>\n",
       "      <td>107.0</td>\n",
       "      <td>[{\"iso_639_1\": \"fr\", \"name\": \"Fran\\u00e7ais\"}]</td>\n",
       "      <td>Released</td>\n",
       "      <td>They Weren't Born Yesterday!</td>\n",
       "      <td>The Visitors</td>\n",
       "      <td>7.1</td>\n",
       "      <td>420</td>\n",
       "    </tr>\n",
       "    <tr>\n",
       "      <th>2011</th>\n",
       "      <td>23000000</td>\n",
       "      <td>[{\"id\": 18, \"name\": \"Drama\"}, {\"id\": 35, \"name...</td>\n",
       "      <td>NaN</td>\n",
       "      <td>22215</td>\n",
       "      <td>[]</td>\n",
       "      <td>en</td>\n",
       "      <td>Chéri</td>\n",
       "      <td>A sumptuous dramatic comedy set in late 19th C...</td>\n",
       "      <td>5.494047</td>\n",
       "      <td>[{\"name\": \"Path\\u00e9 Renn Productions\", \"id\":...</td>\n",
       "      <td>[{\"iso_3166_1\": \"DE\", \"name\": \"Germany\"}, {\"is...</td>\n",
       "      <td>2009-02-10</td>\n",
       "      <td>9366227</td>\n",
       "      <td>86.0</td>\n",
       "      <td>[{\"iso_639_1\": \"en\", \"name\": \"English\"}, {\"iso...</td>\n",
       "      <td>Released</td>\n",
       "      <td>NaN</td>\n",
       "      <td>Cheri</td>\n",
       "      <td>5.9</td>\n",
       "      <td>56</td>\n",
       "    </tr>\n",
       "  </tbody>\n",
       "</table>\n",
       "</div>"
      ],
      "text/plain": [
       "        budget                                             genres homepage  \\\n",
       "3386         0  [{\"id\": 14, \"name\": \"Fantasy\"}, {\"id\": 35, \"na...      NaN   \n",
       "2011  23000000  [{\"id\": 18, \"name\": \"Drama\"}, {\"id\": 35, \"name...      NaN   \n",
       "\n",
       "         id                                           keywords  \\\n",
       "3386  11687  [{\"id\": 964, \"name\": \"servant\"}, {\"id\": 4379, ...   \n",
       "2011  22215                                                 []   \n",
       "\n",
       "     original_language original_title  \\\n",
       "3386                fr  Les visiteurs   \n",
       "2011                en          Chéri   \n",
       "\n",
       "                                               overview  popularity  \\\n",
       "3386  This outrageous time-travel comedy follows the...    8.893676   \n",
       "2011  A sumptuous dramatic comedy set in late 19th C...    5.494047   \n",
       "\n",
       "                                   production_companies  \\\n",
       "3386  [{\"name\": \"Canal Plus\", \"id\": 104}, {\"name\": \"...   \n",
       "2011  [{\"name\": \"Path\\u00e9 Renn Productions\", \"id\":...   \n",
       "\n",
       "                                   production_countries release_date  revenue  \\\n",
       "3386           [{\"iso_3166_1\": \"FR\", \"name\": \"France\"}]   1993-01-27        0   \n",
       "2011  [{\"iso_3166_1\": \"DE\", \"name\": \"Germany\"}, {\"is...   2009-02-10  9366227   \n",
       "\n",
       "      runtime                                   spoken_languages    status  \\\n",
       "3386    107.0     [{\"iso_639_1\": \"fr\", \"name\": \"Fran\\u00e7ais\"}]  Released   \n",
       "2011     86.0  [{\"iso_639_1\": \"en\", \"name\": \"English\"}, {\"iso...  Released   \n",
       "\n",
       "                           tagline         title  vote_average  vote_count  \n",
       "3386  They Weren't Born Yesterday!  The Visitors           7.1         420  \n",
       "2011                           NaN         Cheri           5.9          56  "
      ]
     },
     "execution_count": 113,
     "metadata": {},
     "output_type": "execute_result"
    }
   ],
   "source": [
    "movies.sample(2)"
   ]
  },
  {
   "cell_type": "markdown",
   "id": "6517f66c-f151-49de-9ab7-e42762314eee",
   "metadata": {},
   "source": [
    "### **Merging `movies` and `credits` Datasets**"
   ]
  },
  {
   "cell_type": "code",
   "execution_count": 114,
   "id": "9c9f8af5-bcd4-458d-956d-d5d0c3973d8e",
   "metadata": {},
   "outputs": [],
   "source": [
    "movies = movies.merge(credits,on='title')"
   ]
  },
  {
   "cell_type": "code",
   "execution_count": 115,
   "id": "76b7c418-d444-42dc-9910-69c1748cf1a3",
   "metadata": {},
   "outputs": [
    {
     "data": {
      "text/html": [
       "<div>\n",
       "<style scoped>\n",
       "    .dataframe tbody tr th:only-of-type {\n",
       "        vertical-align: middle;\n",
       "    }\n",
       "\n",
       "    .dataframe tbody tr th {\n",
       "        vertical-align: top;\n",
       "    }\n",
       "\n",
       "    .dataframe thead th {\n",
       "        text-align: right;\n",
       "    }\n",
       "</style>\n",
       "<table border=\"1\" class=\"dataframe\">\n",
       "  <thead>\n",
       "    <tr style=\"text-align: right;\">\n",
       "      <th></th>\n",
       "      <th>budget</th>\n",
       "      <th>genres</th>\n",
       "      <th>homepage</th>\n",
       "      <th>id</th>\n",
       "      <th>keywords</th>\n",
       "      <th>original_language</th>\n",
       "      <th>original_title</th>\n",
       "      <th>overview</th>\n",
       "      <th>popularity</th>\n",
       "      <th>production_companies</th>\n",
       "      <th>...</th>\n",
       "      <th>runtime</th>\n",
       "      <th>spoken_languages</th>\n",
       "      <th>status</th>\n",
       "      <th>tagline</th>\n",
       "      <th>title</th>\n",
       "      <th>vote_average</th>\n",
       "      <th>vote_count</th>\n",
       "      <th>movie_id</th>\n",
       "      <th>cast</th>\n",
       "      <th>crew</th>\n",
       "    </tr>\n",
       "  </thead>\n",
       "  <tbody>\n",
       "    <tr>\n",
       "      <th>845</th>\n",
       "      <td>80000000</td>\n",
       "      <td>[{\"id\": 18, \"name\": \"Drama\"}, {\"id\": 9648, \"na...</td>\n",
       "      <td>NaN</td>\n",
       "      <td>12117</td>\n",
       "      <td>[{\"id\": 378, \"name\": \"prison\"}, {\"id\": 690, \"n...</td>\n",
       "      <td>en</td>\n",
       "      <td>Instinct</td>\n",
       "      <td>Dr. Ethan Powell, an anthropologist, is in Afr...</td>\n",
       "      <td>7.386394</td>\n",
       "      <td>[{\"name\": \"Spyglass Entertainment\", \"id\": 158}...</td>\n",
       "      <td>...</td>\n",
       "      <td>126.0</td>\n",
       "      <td>[{\"iso_639_1\": \"en\", \"name\": \"English\"}]</td>\n",
       "      <td>Released</td>\n",
       "      <td>NaN</td>\n",
       "      <td>Instinct</td>\n",
       "      <td>6.2</td>\n",
       "      <td>146</td>\n",
       "      <td>12117</td>\n",
       "      <td>[{\"cast_id\": 10, \"character\": \"Dr. Ethan Powel...</td>\n",
       "      <td>[{\"credit_id\": \"52fe44b89251416c7503eb3d\", \"de...</td>\n",
       "    </tr>\n",
       "  </tbody>\n",
       "</table>\n",
       "<p>1 rows × 23 columns</p>\n",
       "</div>"
      ],
      "text/plain": [
       "       budget                                             genres homepage  \\\n",
       "845  80000000  [{\"id\": 18, \"name\": \"Drama\"}, {\"id\": 9648, \"na...      NaN   \n",
       "\n",
       "        id                                           keywords  \\\n",
       "845  12117  [{\"id\": 378, \"name\": \"prison\"}, {\"id\": 690, \"n...   \n",
       "\n",
       "    original_language original_title  \\\n",
       "845                en       Instinct   \n",
       "\n",
       "                                              overview  popularity  \\\n",
       "845  Dr. Ethan Powell, an anthropologist, is in Afr...    7.386394   \n",
       "\n",
       "                                  production_companies  ... runtime  \\\n",
       "845  [{\"name\": \"Spyglass Entertainment\", \"id\": 158}...  ...   126.0   \n",
       "\n",
       "                             spoken_languages    status  tagline     title  \\\n",
       "845  [{\"iso_639_1\": \"en\", \"name\": \"English\"}]  Released      NaN  Instinct   \n",
       "\n",
       "    vote_average vote_count movie_id  \\\n",
       "845          6.2        146    12117   \n",
       "\n",
       "                                                  cast  \\\n",
       "845  [{\"cast_id\": 10, \"character\": \"Dr. Ethan Powel...   \n",
       "\n",
       "                                                  crew  \n",
       "845  [{\"credit_id\": \"52fe44b89251416c7503eb3d\", \"de...  \n",
       "\n",
       "[1 rows x 23 columns]"
      ]
     },
     "execution_count": 115,
     "metadata": {},
     "output_type": "execute_result"
    }
   ],
   "source": [
    "movies.sample(1)"
   ]
  },
  {
   "cell_type": "code",
   "execution_count": 116,
   "id": "eca6cbcc-b8ef-4f2c-b4fb-d997c5a8613f",
   "metadata": {},
   "outputs": [
    {
     "name": "stdout",
     "output_type": "stream",
     "text": [
      "<class 'pandas.core.frame.DataFrame'>\n",
      "RangeIndex: 4809 entries, 0 to 4808\n",
      "Data columns (total 23 columns):\n",
      " #   Column                Non-Null Count  Dtype  \n",
      "---  ------                --------------  -----  \n",
      " 0   budget                4809 non-null   int64  \n",
      " 1   genres                4809 non-null   object \n",
      " 2   homepage              1713 non-null   object \n",
      " 3   id                    4809 non-null   int64  \n",
      " 4   keywords              4809 non-null   object \n",
      " 5   original_language     4809 non-null   object \n",
      " 6   original_title        4809 non-null   object \n",
      " 7   overview              4806 non-null   object \n",
      " 8   popularity            4809 non-null   float64\n",
      " 9   production_companies  4809 non-null   object \n",
      " 10  production_countries  4809 non-null   object \n",
      " 11  release_date          4808 non-null   object \n",
      " 12  revenue               4809 non-null   int64  \n",
      " 13  runtime               4807 non-null   float64\n",
      " 14  spoken_languages      4809 non-null   object \n",
      " 15  status                4809 non-null   object \n",
      " 16  tagline               3965 non-null   object \n",
      " 17  title                 4809 non-null   object \n",
      " 18  vote_average          4809 non-null   float64\n",
      " 19  vote_count            4809 non-null   int64  \n",
      " 20  movie_id              4809 non-null   int64  \n",
      " 21  cast                  4809 non-null   object \n",
      " 22  crew                  4809 non-null   object \n",
      "dtypes: float64(3), int64(5), object(15)\n",
      "memory usage: 864.2+ KB\n"
     ]
    }
   ],
   "source": [
    "movies.info()"
   ]
  },
  {
   "cell_type": "markdown",
   "id": "deacb4d8-1cd8-457a-90ee-64667c645bc4",
   "metadata": {},
   "source": [
    "### **Adil and Harry's Feature Selection: Building the Foundation**\n",
    "\n",
    "Adil and Harry knew that selecting the right features was crucial for building an effective content-based movie recommender system. They examined both the **movies** and **credits** datasets carefully, picking only the relevant columns for their model.\n",
    "\n",
    "---\n",
    "\n",
    "### **Selected Features for the Content-Based Recommender System**\n",
    "\n",
    "To ensure their recommender system was powerful, they decided to use the following features:\n",
    "\n",
    "---\n",
    "\n",
    "#### **1. Movie Metadata Features (from the `movies` dataset)**\n",
    "\n",
    "These features would help the system understand the genre, plot, and keywords associated with each movie.\n",
    "\n",
    "- **`genres`**: The genre(s) of the movie (e.g., Action, Comedy, Drama, Sci-Fi). This would be used to group similar movies.\n",
    "  \n",
    "- **`movie_id`**: Unique identifier for each movie, necessary for tracking and recommendation.\n",
    "\n",
    "- **`title`**: The name of the movie, which will be part of the recommendation output.\n",
    "\n",
    "- **`overview`**: A brief description of the movie’s plot, which will help identify the content of the movie for similarity comparison.\n",
    "\n",
    "- **`keywords`**: Important tags related to the movie that describe its themes, actors, or key elements, which could help suggest similar movies.\n",
    "\n",
    "---\n",
    "\n",
    "#### **2. Cast and Crew Features (from the `credits` dataset)**\n",
    "\n",
    "These features would help the system understand the people behind the movie, such as actors and directors, which are important factors in content-based recommendations.\n",
    "\n",
    "- **`cast`**: The list of actors in the movie (e.g., Leonardo DiCaprio, Robert Downey Jr.). The system could recommend movies featuring similar actors.\n",
    "\n",
    "- **`crew`**: The list of crew members, including the **director**, **producer**, and **screenwriter**. This information is helpful to recommend movies by the same director or producers.\n",
    "\n",
    "---\n",
    "\n",
    "#### **3. Additional Feature (Optional)**\n",
    "\n",
    "- **`release_date`**: The official release date of the movie. Although not critical for content-based filtering, the release date could be used to make recommendations based on recent trends or the time of year."
   ]
  },
  {
   "cell_type": "code",
   "execution_count": 117,
   "id": "3e0e1f20-b27c-4b88-aa7b-866d2ea9955e",
   "metadata": {},
   "outputs": [],
   "source": [
    "movies = movies[['movie_id','title','overview','genres','keywords','cast','crew']]"
   ]
  },
  {
   "cell_type": "code",
   "execution_count": 118,
   "id": "c4d99581-b6dc-4702-a8a8-72d136e36bf0",
   "metadata": {},
   "outputs": [
    {
     "data": {
      "text/html": [
       "<div>\n",
       "<style scoped>\n",
       "    .dataframe tbody tr th:only-of-type {\n",
       "        vertical-align: middle;\n",
       "    }\n",
       "\n",
       "    .dataframe tbody tr th {\n",
       "        vertical-align: top;\n",
       "    }\n",
       "\n",
       "    .dataframe thead th {\n",
       "        text-align: right;\n",
       "    }\n",
       "</style>\n",
       "<table border=\"1\" class=\"dataframe\">\n",
       "  <thead>\n",
       "    <tr style=\"text-align: right;\">\n",
       "      <th></th>\n",
       "      <th>movie_id</th>\n",
       "      <th>title</th>\n",
       "      <th>overview</th>\n",
       "      <th>genres</th>\n",
       "      <th>keywords</th>\n",
       "      <th>cast</th>\n",
       "      <th>crew</th>\n",
       "    </tr>\n",
       "  </thead>\n",
       "  <tbody>\n",
       "    <tr>\n",
       "      <th>0</th>\n",
       "      <td>19995</td>\n",
       "      <td>Avatar</td>\n",
       "      <td>In the 22nd century, a paraplegic Marine is di...</td>\n",
       "      <td>[{\"id\": 28, \"name\": \"Action\"}, {\"id\": 12, \"nam...</td>\n",
       "      <td>[{\"id\": 1463, \"name\": \"culture clash\"}, {\"id\":...</td>\n",
       "      <td>[{\"cast_id\": 242, \"character\": \"Jake Sully\", \"...</td>\n",
       "      <td>[{\"credit_id\": \"52fe48009251416c750aca23\", \"de...</td>\n",
       "    </tr>\n",
       "  </tbody>\n",
       "</table>\n",
       "</div>"
      ],
      "text/plain": [
       "   movie_id   title                                           overview  \\\n",
       "0     19995  Avatar  In the 22nd century, a paraplegic Marine is di...   \n",
       "\n",
       "                                              genres  \\\n",
       "0  [{\"id\": 28, \"name\": \"Action\"}, {\"id\": 12, \"nam...   \n",
       "\n",
       "                                            keywords  \\\n",
       "0  [{\"id\": 1463, \"name\": \"culture clash\"}, {\"id\":...   \n",
       "\n",
       "                                                cast  \\\n",
       "0  [{\"cast_id\": 242, \"character\": \"Jake Sully\", \"...   \n",
       "\n",
       "                                                crew  \n",
       "0  [{\"credit_id\": \"52fe48009251416c750aca23\", \"de...  "
      ]
     },
     "execution_count": 118,
     "metadata": {},
     "output_type": "execute_result"
    }
   ],
   "source": [
    "movies.head(1)"
   ]
  },
  {
   "cell_type": "code",
   "execution_count": 119,
   "id": "486e6178-de67-4a71-bf7e-35a88d36f8c7",
   "metadata": {},
   "outputs": [
    {
     "data": {
      "text/plain": [
       "movie_id    0\n",
       "title       0\n",
       "overview    3\n",
       "genres      0\n",
       "keywords    0\n",
       "cast        0\n",
       "crew        0\n",
       "dtype: int64"
      ]
     },
     "execution_count": 119,
     "metadata": {},
     "output_type": "execute_result"
    }
   ],
   "source": [
    "movies.isnull().sum()"
   ]
  },
  {
   "cell_type": "code",
   "execution_count": 120,
   "id": "75e3484b-2b7e-4b3e-b4a4-55e267b8d70c",
   "metadata": {},
   "outputs": [],
   "source": [
    "movies.dropna(inplace=True)"
   ]
  },
  {
   "cell_type": "code",
   "execution_count": 121,
   "id": "bab244d5-792e-4a66-a357-93c364157a2e",
   "metadata": {},
   "outputs": [
    {
     "data": {
      "text/plain": [
       "np.int64(0)"
      ]
     },
     "execution_count": 121,
     "metadata": {},
     "output_type": "execute_result"
    }
   ],
   "source": [
    "movies.duplicated().sum()"
   ]
  },
  {
   "cell_type": "code",
   "execution_count": 122,
   "id": "f1723b07-f05e-4b43-b976-3383ea33180d",
   "metadata": {},
   "outputs": [
    {
     "data": {
      "text/plain": [
       "'[{\"id\": 28, \"name\": \"Action\"}, {\"id\": 12, \"name\": \"Adventure\"}, {\"id\": 14, \"name\": \"Fantasy\"}, {\"id\": 878, \"name\": \"Science Fiction\"}]'"
      ]
     },
     "execution_count": 122,
     "metadata": {},
     "output_type": "execute_result"
    }
   ],
   "source": [
    "movies.iloc[0].genres"
   ]
  },
  {
   "cell_type": "code",
   "execution_count": 123,
   "id": "3395a97e-50bf-4c0a-955b-9bf66c6a3f21",
   "metadata": {},
   "outputs": [
    {
     "data": {
      "text/plain": [
       "[{'id': 28, 'name': 'Action'},\n",
       " {'id': 12, 'name': 'Adventure'},\n",
       " {'id': 14, 'name': 'Fantasy'},\n",
       " {'id': 878, 'name': 'Science Fiction'}]"
      ]
     },
     "execution_count": 123,
     "metadata": {},
     "output_type": "execute_result"
    }
   ],
   "source": [
    "import ast \n",
    "ast.literal_eval('[{\"id\": 28, \"name\": \"Action\"}, {\"id\": 12, \"name\": \"Adventure\"}, {\"id\": 14, \"name\": \"Fantasy\"}, {\"id\": 878, \"name\": \"Science Fiction\"}]')"
   ]
  },
  {
   "cell_type": "code",
   "execution_count": 124,
   "id": "5af0ed50-751f-40cf-bc27-de088d4f865c",
   "metadata": {},
   "outputs": [],
   "source": [
    "def convert(text):\n",
    "    L = []\n",
    "    for i in ast.literal_eval(text):\n",
    "        L.append(i['name']) \n",
    "    return L"
   ]
  },
  {
   "cell_type": "code",
   "execution_count": 125,
   "id": "e48c0398-e56a-4063-8358-32b71ab92f9c",
   "metadata": {},
   "outputs": [],
   "source": [
    "movies.dropna(inplace=True)"
   ]
  },
  {
   "cell_type": "code",
   "execution_count": 126,
   "id": "b6ea76e4-4d29-4b33-8651-43fa3b03db12",
   "metadata": {},
   "outputs": [],
   "source": [
    "movies['genres'] = movies['genres'].apply(convert)"
   ]
  },
  {
   "cell_type": "code",
   "execution_count": 127,
   "id": "be94e1f3-4e91-4ae3-b279-2659412eb9f5",
   "metadata": {},
   "outputs": [
    {
     "data": {
      "text/html": [
       "<div>\n",
       "<style scoped>\n",
       "    .dataframe tbody tr th:only-of-type {\n",
       "        vertical-align: middle;\n",
       "    }\n",
       "\n",
       "    .dataframe tbody tr th {\n",
       "        vertical-align: top;\n",
       "    }\n",
       "\n",
       "    .dataframe thead th {\n",
       "        text-align: right;\n",
       "    }\n",
       "</style>\n",
       "<table border=\"1\" class=\"dataframe\">\n",
       "  <thead>\n",
       "    <tr style=\"text-align: right;\">\n",
       "      <th></th>\n",
       "      <th>movie_id</th>\n",
       "      <th>title</th>\n",
       "      <th>overview</th>\n",
       "      <th>genres</th>\n",
       "      <th>keywords</th>\n",
       "      <th>cast</th>\n",
       "      <th>crew</th>\n",
       "    </tr>\n",
       "  </thead>\n",
       "  <tbody>\n",
       "    <tr>\n",
       "      <th>0</th>\n",
       "      <td>19995</td>\n",
       "      <td>Avatar</td>\n",
       "      <td>In the 22nd century, a paraplegic Marine is di...</td>\n",
       "      <td>[Action, Adventure, Fantasy, Science Fiction]</td>\n",
       "      <td>[culture clash, future, space war, space colon...</td>\n",
       "      <td>[{\"cast_id\": 242, \"character\": \"Jake Sully\", \"...</td>\n",
       "      <td>[{\"credit_id\": \"52fe48009251416c750aca23\", \"de...</td>\n",
       "    </tr>\n",
       "  </tbody>\n",
       "</table>\n",
       "</div>"
      ],
      "text/plain": [
       "   movie_id   title                                           overview  \\\n",
       "0     19995  Avatar  In the 22nd century, a paraplegic Marine is di...   \n",
       "\n",
       "                                          genres  \\\n",
       "0  [Action, Adventure, Fantasy, Science Fiction]   \n",
       "\n",
       "                                            keywords  \\\n",
       "0  [culture clash, future, space war, space colon...   \n",
       "\n",
       "                                                cast  \\\n",
       "0  [{\"cast_id\": 242, \"character\": \"Jake Sully\", \"...   \n",
       "\n",
       "                                                crew  \n",
       "0  [{\"credit_id\": \"52fe48009251416c750aca23\", \"de...  "
      ]
     },
     "execution_count": 127,
     "metadata": {},
     "output_type": "execute_result"
    }
   ],
   "source": [
    "movies['keywords'] = movies['keywords'].apply(convert)\n",
    "movies.head(1)"
   ]
  },
  {
   "cell_type": "code",
   "execution_count": 128,
   "id": "c6e67e93-52d0-4d60-892e-213a3ff8673d",
   "metadata": {},
   "outputs": [],
   "source": [
    "def convert3(text):\n",
    "    L = []\n",
    "    counter = 0\n",
    "    for i in ast.literal_eval(text):\n",
    "        if counter < 3:\n",
    "            L.append(i['name'])\n",
    "        counter+=1\n",
    "    return L"
   ]
  },
  {
   "cell_type": "code",
   "execution_count": 129,
   "id": "8d546fbf-3f0a-4ab5-9793-d90502122650",
   "metadata": {},
   "outputs": [],
   "source": [
    "movies['cast'] = movies['cast'].apply(convert)"
   ]
  },
  {
   "cell_type": "code",
   "execution_count": 130,
   "id": "e298a3d7-c946-4c70-bdd4-d6ad44348576",
   "metadata": {},
   "outputs": [],
   "source": [
    "def fetch_director(text):\n",
    "    L = []\n",
    "    for i in ast.literal_eval(text):\n",
    "        if i['job'] == 'Director':\n",
    "            L.append(i['name'])\n",
    "    return L"
   ]
  },
  {
   "cell_type": "code",
   "execution_count": 131,
   "id": "1a9bf6d8-fc39-4849-8ec2-ec347f0a8750",
   "metadata": {},
   "outputs": [],
   "source": [
    "movies['crew'] = movies['crew'].apply(fetch_director)"
   ]
  },
  {
   "cell_type": "code",
   "execution_count": 132,
   "id": "74db7ef5-8901-4e7e-8939-2057fc5630bd",
   "metadata": {},
   "outputs": [
    {
     "data": {
      "text/plain": [
       "'In the 22nd century, a paraplegic Marine is dispatched to the moon Pandora on a unique mission, but becomes torn between following orders and protecting an alien civilization.'"
      ]
     },
     "execution_count": 132,
     "metadata": {},
     "output_type": "execute_result"
    }
   ],
   "source": [
    "movies['overview'][0]"
   ]
  },
  {
   "cell_type": "code",
   "execution_count": 133,
   "id": "f458ed08-c367-40df-ad1b-3de2891a172a",
   "metadata": {},
   "outputs": [],
   "source": [
    "movies['overview'] = movies['overview'].apply(lambda x:x.split())"
   ]
  },
  {
   "cell_type": "code",
   "execution_count": 134,
   "id": "d4441a86-7f5e-4632-9b32-ffe9a39a02dc",
   "metadata": {},
   "outputs": [
    {
     "data": {
      "text/html": [
       "<div>\n",
       "<style scoped>\n",
       "    .dataframe tbody tr th:only-of-type {\n",
       "        vertical-align: middle;\n",
       "    }\n",
       "\n",
       "    .dataframe tbody tr th {\n",
       "        vertical-align: top;\n",
       "    }\n",
       "\n",
       "    .dataframe thead th {\n",
       "        text-align: right;\n",
       "    }\n",
       "</style>\n",
       "<table border=\"1\" class=\"dataframe\">\n",
       "  <thead>\n",
       "    <tr style=\"text-align: right;\">\n",
       "      <th></th>\n",
       "      <th>movie_id</th>\n",
       "      <th>title</th>\n",
       "      <th>overview</th>\n",
       "      <th>genres</th>\n",
       "      <th>keywords</th>\n",
       "      <th>cast</th>\n",
       "      <th>crew</th>\n",
       "    </tr>\n",
       "  </thead>\n",
       "  <tbody>\n",
       "    <tr>\n",
       "      <th>2628</th>\n",
       "      <td>6552</td>\n",
       "      <td>Idle Hands</td>\n",
       "      <td>[Anton, is, a, cheerful, but, exceedingly, non...</td>\n",
       "      <td>[Thriller, Comedy, Horror]</td>\n",
       "      <td>[teenager, attic, knitting needle, noise compl...</td>\n",
       "      <td>[Devon Sawa, Seth Green, Jessica Alba, Vivica ...</td>\n",
       "      <td>[Rodman Flender]</td>\n",
       "    </tr>\n",
       "    <tr>\n",
       "      <th>1715</th>\n",
       "      <td>699</td>\n",
       "      <td>For Your Eyes Only</td>\n",
       "      <td>[A, British, spy, ship, has, sunk, and, on, bo...</td>\n",
       "      <td>[Adventure, Action, Thriller]</td>\n",
       "      <td>[london england, submarine, england, sea, assa...</td>\n",
       "      <td>[Roger Moore, Carole Bouquet, Chaim Topol, Lyn...</td>\n",
       "      <td>[John Glen]</td>\n",
       "    </tr>\n",
       "  </tbody>\n",
       "</table>\n",
       "</div>"
      ],
      "text/plain": [
       "      movie_id               title  \\\n",
       "2628      6552          Idle Hands   \n",
       "1715       699  For Your Eyes Only   \n",
       "\n",
       "                                               overview  \\\n",
       "2628  [Anton, is, a, cheerful, but, exceedingly, non...   \n",
       "1715  [A, British, spy, ship, has, sunk, and, on, bo...   \n",
       "\n",
       "                             genres  \\\n",
       "2628     [Thriller, Comedy, Horror]   \n",
       "1715  [Adventure, Action, Thriller]   \n",
       "\n",
       "                                               keywords  \\\n",
       "2628  [teenager, attic, knitting needle, noise compl...   \n",
       "1715  [london england, submarine, england, sea, assa...   \n",
       "\n",
       "                                                   cast              crew  \n",
       "2628  [Devon Sawa, Seth Green, Jessica Alba, Vivica ...  [Rodman Flender]  \n",
       "1715  [Roger Moore, Carole Bouquet, Chaim Topol, Lyn...       [John Glen]  "
      ]
     },
     "execution_count": 134,
     "metadata": {},
     "output_type": "execute_result"
    }
   ],
   "source": [
    "movies.sample(2)"
   ]
  },
  {
   "cell_type": "code",
   "execution_count": 135,
   "id": "c23efb00-d2a7-4269-aab2-a4b73ee6da64",
   "metadata": {},
   "outputs": [],
   "source": [
    "def collapse(L):\n",
    "    L1 = []\n",
    "    for i in L:\n",
    "        L1.append(i.replace(\" \",\"\"))\n",
    "    return L1"
   ]
  },
  {
   "cell_type": "code",
   "execution_count": 136,
   "id": "d53b95ae-038d-45c6-8012-2cbbf9f0dd26",
   "metadata": {},
   "outputs": [],
   "source": [
    "movies['cast'] = movies['cast'].apply(collapse)\n",
    "movies['crew'] = movies['crew'].apply(collapse)\n",
    "movies['genres'] = movies['genres'].apply(collapse)\n",
    "movies['keywords'] = movies['keywords'].apply(collapse)"
   ]
  },
  {
   "cell_type": "code",
   "execution_count": 137,
   "id": "73386367-463e-4d95-bab6-1b53c25d9ffe",
   "metadata": {},
   "outputs": [
    {
     "data": {
      "text/html": [
       "<div>\n",
       "<style scoped>\n",
       "    .dataframe tbody tr th:only-of-type {\n",
       "        vertical-align: middle;\n",
       "    }\n",
       "\n",
       "    .dataframe tbody tr th {\n",
       "        vertical-align: top;\n",
       "    }\n",
       "\n",
       "    .dataframe thead th {\n",
       "        text-align: right;\n",
       "    }\n",
       "</style>\n",
       "<table border=\"1\" class=\"dataframe\">\n",
       "  <thead>\n",
       "    <tr style=\"text-align: right;\">\n",
       "      <th></th>\n",
       "      <th>movie_id</th>\n",
       "      <th>title</th>\n",
       "      <th>overview</th>\n",
       "      <th>genres</th>\n",
       "      <th>keywords</th>\n",
       "      <th>cast</th>\n",
       "      <th>crew</th>\n",
       "    </tr>\n",
       "  </thead>\n",
       "  <tbody>\n",
       "    <tr>\n",
       "      <th>0</th>\n",
       "      <td>19995</td>\n",
       "      <td>Avatar</td>\n",
       "      <td>[In, the, 22nd, century,, a, paraplegic, Marin...</td>\n",
       "      <td>[Action, Adventure, Fantasy, ScienceFiction]</td>\n",
       "      <td>[cultureclash, future, spacewar, spacecolony, ...</td>\n",
       "      <td>[SamWorthington, ZoeSaldana, SigourneyWeaver, ...</td>\n",
       "      <td>[JamesCameron]</td>\n",
       "    </tr>\n",
       "    <tr>\n",
       "      <th>1</th>\n",
       "      <td>285</td>\n",
       "      <td>Pirates of the Caribbean: At World's End</td>\n",
       "      <td>[Captain, Barbossa,, long, believed, to, be, d...</td>\n",
       "      <td>[Adventure, Fantasy, Action]</td>\n",
       "      <td>[ocean, drugabuse, exoticisland, eastindiatrad...</td>\n",
       "      <td>[JohnnyDepp, OrlandoBloom, KeiraKnightley, Ste...</td>\n",
       "      <td>[GoreVerbinski]</td>\n",
       "    </tr>\n",
       "  </tbody>\n",
       "</table>\n",
       "</div>"
      ],
      "text/plain": [
       "   movie_id                                     title  \\\n",
       "0     19995                                    Avatar   \n",
       "1       285  Pirates of the Caribbean: At World's End   \n",
       "\n",
       "                                            overview  \\\n",
       "0  [In, the, 22nd, century,, a, paraplegic, Marin...   \n",
       "1  [Captain, Barbossa,, long, believed, to, be, d...   \n",
       "\n",
       "                                         genres  \\\n",
       "0  [Action, Adventure, Fantasy, ScienceFiction]   \n",
       "1                  [Adventure, Fantasy, Action]   \n",
       "\n",
       "                                            keywords  \\\n",
       "0  [cultureclash, future, spacewar, spacecolony, ...   \n",
       "1  [ocean, drugabuse, exoticisland, eastindiatrad...   \n",
       "\n",
       "                                                cast             crew  \n",
       "0  [SamWorthington, ZoeSaldana, SigourneyWeaver, ...   [JamesCameron]  \n",
       "1  [JohnnyDepp, OrlandoBloom, KeiraKnightley, Ste...  [GoreVerbinski]  "
      ]
     },
     "execution_count": 137,
     "metadata": {},
     "output_type": "execute_result"
    }
   ],
   "source": [
    "movies.head(2)"
   ]
  },
  {
   "cell_type": "code",
   "execution_count": 138,
   "id": "791ab34b-eaa5-4334-a630-c30acaa1c7e4",
   "metadata": {},
   "outputs": [],
   "source": [
    "movies['tags'] = movies['overview'] + movies['genres'] + movies['keywords'] + movies['cast'] + movies['crew']"
   ]
  },
  {
   "cell_type": "code",
   "execution_count": 139,
   "id": "4fec3371-bc54-4497-ab38-3d3e9a82e3a8",
   "metadata": {},
   "outputs": [],
   "source": [
    "new_df = movies.drop(columns=['overview','genres','keywords','cast','crew'])"
   ]
  },
  {
   "cell_type": "code",
   "execution_count": 140,
   "id": "fa552d08-7baf-4288-8281-c614ffa243de",
   "metadata": {},
   "outputs": [],
   "source": [
    "new_df['tags'] = new_df['tags'].apply(lambda x: \" \".join(x))                         "
   ]
  },
  {
   "cell_type": "code",
   "execution_count": 141,
   "id": "455c1716-ef82-47bd-b45f-792c7f798538",
   "metadata": {},
   "outputs": [],
   "source": [
    "new_df['tags'] = new_df['tags'].apply(lambda x: x.lower())  "
   ]
  },
  {
   "cell_type": "code",
   "execution_count": 142,
   "id": "aad1f41c-9cc0-4564-be54-29ec8b7b77cf",
   "metadata": {},
   "outputs": [
    {
     "data": {
      "text/html": [
       "<div>\n",
       "<style scoped>\n",
       "    .dataframe tbody tr th:only-of-type {\n",
       "        vertical-align: middle;\n",
       "    }\n",
       "\n",
       "    .dataframe tbody tr th {\n",
       "        vertical-align: top;\n",
       "    }\n",
       "\n",
       "    .dataframe thead th {\n",
       "        text-align: right;\n",
       "    }\n",
       "</style>\n",
       "<table border=\"1\" class=\"dataframe\">\n",
       "  <thead>\n",
       "    <tr style=\"text-align: right;\">\n",
       "      <th></th>\n",
       "      <th>movie_id</th>\n",
       "      <th>title</th>\n",
       "      <th>tags</th>\n",
       "    </tr>\n",
       "  </thead>\n",
       "  <tbody>\n",
       "    <tr>\n",
       "      <th>0</th>\n",
       "      <td>19995</td>\n",
       "      <td>Avatar</td>\n",
       "      <td>in the 22nd century, a paraplegic marine is di...</td>\n",
       "    </tr>\n",
       "    <tr>\n",
       "      <th>1</th>\n",
       "      <td>285</td>\n",
       "      <td>Pirates of the Caribbean: At World's End</td>\n",
       "      <td>captain barbossa, long believed to be dead, ha...</td>\n",
       "    </tr>\n",
       "  </tbody>\n",
       "</table>\n",
       "</div>"
      ],
      "text/plain": [
       "   movie_id                                     title  \\\n",
       "0     19995                                    Avatar   \n",
       "1       285  Pirates of the Caribbean: At World's End   \n",
       "\n",
       "                                                tags  \n",
       "0  in the 22nd century, a paraplegic marine is di...  \n",
       "1  captain barbossa, long believed to be dead, ha...  "
      ]
     },
     "execution_count": 142,
     "metadata": {},
     "output_type": "execute_result"
    }
   ],
   "source": [
    "new_df.head(2)"
   ]
  },
  {
   "cell_type": "code",
   "execution_count": 143,
   "id": "7c2ea7f4-d169-45ef-af08-dc2a7d702b92",
   "metadata": {},
   "outputs": [],
   "source": [
    "from nltk.stem.porter import PorterStemmer  \n",
    "ps = PorterStemmer()  "
   ]
  },
  {
   "cell_type": "code",
   "execution_count": 144,
   "id": "a228d6ec-2529-4505-8809-23ba7b7bc953",
   "metadata": {},
   "outputs": [],
   "source": [
    "def stem(text):  \n",
    "    y = []  \n",
    "    for i in text.split():  \n",
    "        y.append(ps.stem(i))  \n",
    "    return \" \".join(y)  "
   ]
  },
  {
   "cell_type": "code",
   "execution_count": 145,
   "id": "2627850b-237d-4af1-ae21-129bd8987ba7",
   "metadata": {},
   "outputs": [],
   "source": [
    "new_df['tags'] = new_df['tags'].apply(stem)"
   ]
  },
  {
   "cell_type": "markdown",
   "id": "05ae8518-0371-4504-8356-581bab5a3fb7",
   "metadata": {},
   "source": [
    "### Vectorization for Content-Based Movie Recommender System"
   ]
  },
  {
   "cell_type": "code",
   "execution_count": 146,
   "id": "8aa40e2e-fc37-4d61-9bcd-fcfa25a8277d",
   "metadata": {},
   "outputs": [],
   "source": [
    "from sklearn.feature_extraction.text import CountVectorizer\n",
    "cv = CountVectorizer(max_features=5000,stop_words='english')"
   ]
  },
  {
   "cell_type": "code",
   "execution_count": 147,
   "id": "d4176afc-0d34-4fc3-960e-e80c45f53420",
   "metadata": {},
   "outputs": [],
   "source": [
    "vector = cv.fit_transform(new['tags']).toarray()"
   ]
  },
  {
   "cell_type": "code",
   "execution_count": 148,
   "id": "d35c6356-2027-44ce-b795-b8a993c6e20f",
   "metadata": {},
   "outputs": [
    {
     "data": {
      "text/plain": [
       "(4806, 5000)"
      ]
     },
     "execution_count": 148,
     "metadata": {},
     "output_type": "execute_result"
    }
   ],
   "source": [
    "vector.shape"
   ]
  },
  {
   "cell_type": "code",
   "execution_count": 149,
   "id": "cc58ad69-a59b-45e0-a4fe-c1180dffa368",
   "metadata": {},
   "outputs": [],
   "source": [
    "from sklearn.metrics.pairwise import cosine_similarity"
   ]
  },
  {
   "cell_type": "code",
   "execution_count": 150,
   "id": "b7047637-c352-4ff0-a4e1-1d33485687d4",
   "metadata": {},
   "outputs": [],
   "source": [
    "similarity = cosine_similarity(vector)"
   ]
  },
  {
   "cell_type": "code",
   "execution_count": 151,
   "id": "de702cb0-5fcf-444a-8ab4-ca9038bad928",
   "metadata": {},
   "outputs": [
    {
     "data": {
      "text/plain": [
       "np.int64(744)"
      ]
     },
     "execution_count": 151,
     "metadata": {},
     "output_type": "execute_result"
    }
   ],
   "source": [
    "new[new['title'] == 'The Lego Movie'].index[0]"
   ]
  },
  {
   "cell_type": "code",
   "execution_count": 152,
   "id": "2730b0c5-3fdd-43d2-9b06-4ebd03c792af",
   "metadata": {},
   "outputs": [],
   "source": [
    "def recommend(movie):\n",
    "    index = new[new['title'] == movie].index[0]\n",
    "    distances = sorted(list(enumerate(similarity[index])),reverse=True,key = lambda x: x[1])\n",
    "    for i in distances[1:6]:\n",
    "        print(new.iloc[i[0]].title)"
   ]
  },
  {
   "cell_type": "code",
   "execution_count": 153,
   "id": "62bae692-7acb-48b2-8d73-8bed1072fd22",
   "metadata": {},
   "outputs": [
    {
     "name": "stdout",
     "output_type": "stream",
     "text": [
      "Ramanujan\n",
      "Guiana 1838\n",
      "The Wind That Shakes the Barley\n",
      "The Bounty\n",
      "A Passage to India\n"
     ]
    }
   ],
   "source": [
    "recommend('Gandhi')"
   ]
  },
  {
   "cell_type": "code",
   "execution_count": 154,
   "id": "f1a1c086-e37a-4aad-a3dd-02ff67e2dbc6",
   "metadata": {},
   "outputs": [],
   "source": [
    "import pickle"
   ]
  },
  {
   "cell_type": "code",
   "execution_count": 155,
   "id": "5c189bbe-ce20-4a2b-ac20-1a624d97c2cd",
   "metadata": {},
   "outputs": [],
   "source": [
    "pickle.dump(new,open('movie_list.pkl','wb'))\n",
    "pickle.dump(similarity,open('similarity.pkl','wb'))"
   ]
  }
 ],
 "metadata": {
  "kernelspec": {
   "display_name": "Python 3 (ipykernel)",
   "language": "python",
   "name": "python3"
  },
  "language_info": {
   "codemirror_mode": {
    "name": "ipython",
    "version": 3
   },
   "file_extension": ".py",
   "mimetype": "text/x-python",
   "name": "python",
   "nbconvert_exporter": "python",
   "pygments_lexer": "ipython3",
   "version": "3.13.2"
  }
 },
 "nbformat": 4,
 "nbformat_minor": 5
}
